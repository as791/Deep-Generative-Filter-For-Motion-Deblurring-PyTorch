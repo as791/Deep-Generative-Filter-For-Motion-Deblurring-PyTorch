{
  "nbformat": 4,
  "nbformat_minor": 0,
  "metadata": {
    "colab": {
      "name": "IVPMiniProject.ipynb",
      "provenance": [],
      "collapsed_sections": []
    },
    "kernelspec": {
      "name": "python3",
      "display_name": "Python 3"
    },
    "accelerator": "GPU",
    "widgets": {
      "application/vnd.jupyter.widget-state+json": {
        "a9c5fbe7020d4d91bd67f15dd109072c": {
          "model_module": "@jupyter-widgets/controls",
          "model_name": "HBoxModel",
          "state": {
            "_view_name": "HBoxView",
            "_dom_classes": [],
            "_model_name": "HBoxModel",
            "_view_module": "@jupyter-widgets/controls",
            "_model_module_version": "1.5.0",
            "_view_count": null,
            "_view_module_version": "1.5.0",
            "box_style": "",
            "layout": "IPY_MODEL_aa73d214280a45fdbf5e8249da9f7376",
            "_model_module": "@jupyter-widgets/controls",
            "children": [
              "IPY_MODEL_88745536fb064fe1a49af47c5434e653",
              "IPY_MODEL_ffebd53384474f638f732e84b87c522e"
            ]
          }
        },
        "aa73d214280a45fdbf5e8249da9f7376": {
          "model_module": "@jupyter-widgets/base",
          "model_name": "LayoutModel",
          "state": {
            "_view_name": "LayoutView",
            "grid_template_rows": null,
            "right": null,
            "justify_content": null,
            "_view_module": "@jupyter-widgets/base",
            "overflow": null,
            "_model_module_version": "1.2.0",
            "_view_count": null,
            "flex_flow": null,
            "width": null,
            "min_width": null,
            "border": null,
            "align_items": null,
            "bottom": null,
            "_model_module": "@jupyter-widgets/base",
            "top": null,
            "grid_column": null,
            "overflow_y": null,
            "overflow_x": null,
            "grid_auto_flow": null,
            "grid_area": null,
            "grid_template_columns": null,
            "flex": null,
            "_model_name": "LayoutModel",
            "justify_items": null,
            "grid_row": null,
            "max_height": null,
            "align_content": null,
            "visibility": null,
            "align_self": null,
            "height": null,
            "min_height": null,
            "padding": null,
            "grid_auto_rows": null,
            "grid_gap": null,
            "max_width": null,
            "order": null,
            "_view_module_version": "1.2.0",
            "grid_template_areas": null,
            "object_position": null,
            "object_fit": null,
            "grid_auto_columns": null,
            "margin": null,
            "display": null,
            "left": null
          }
        },
        "88745536fb064fe1a49af47c5434e653": {
          "model_module": "@jupyter-widgets/controls",
          "model_name": "FloatProgressModel",
          "state": {
            "_view_name": "ProgressView",
            "style": "IPY_MODEL_69723696e15c4e82884ef09553c172c3",
            "_dom_classes": [],
            "description": "100%",
            "_model_name": "FloatProgressModel",
            "bar_style": "success",
            "max": 553433881,
            "_view_module": "@jupyter-widgets/controls",
            "_model_module_version": "1.5.0",
            "value": 553433881,
            "_view_count": null,
            "_view_module_version": "1.5.0",
            "orientation": "horizontal",
            "min": 0,
            "description_tooltip": null,
            "_model_module": "@jupyter-widgets/controls",
            "layout": "IPY_MODEL_77d082f1e8d14c0cafbfbc969ca12905"
          }
        },
        "ffebd53384474f638f732e84b87c522e": {
          "model_module": "@jupyter-widgets/controls",
          "model_name": "HTMLModel",
          "state": {
            "_view_name": "HTMLView",
            "style": "IPY_MODEL_6bc55907d14a4ebeba136dcd07fb456b",
            "_dom_classes": [],
            "description": "",
            "_model_name": "HTMLModel",
            "placeholder": "​",
            "_view_module": "@jupyter-widgets/controls",
            "_model_module_version": "1.5.0",
            "value": " 528M/528M [00:26&lt;00:00, 21.2MB/s]",
            "_view_count": null,
            "_view_module_version": "1.5.0",
            "description_tooltip": null,
            "_model_module": "@jupyter-widgets/controls",
            "layout": "IPY_MODEL_f05278e44ebb4d9c8320b2393d323b78"
          }
        },
        "69723696e15c4e82884ef09553c172c3": {
          "model_module": "@jupyter-widgets/controls",
          "model_name": "ProgressStyleModel",
          "state": {
            "_view_name": "StyleView",
            "_model_name": "ProgressStyleModel",
            "description_width": "initial",
            "_view_module": "@jupyter-widgets/base",
            "_model_module_version": "1.5.0",
            "_view_count": null,
            "_view_module_version": "1.2.0",
            "bar_color": null,
            "_model_module": "@jupyter-widgets/controls"
          }
        },
        "77d082f1e8d14c0cafbfbc969ca12905": {
          "model_module": "@jupyter-widgets/base",
          "model_name": "LayoutModel",
          "state": {
            "_view_name": "LayoutView",
            "grid_template_rows": null,
            "right": null,
            "justify_content": null,
            "_view_module": "@jupyter-widgets/base",
            "overflow": null,
            "_model_module_version": "1.2.0",
            "_view_count": null,
            "flex_flow": null,
            "width": null,
            "min_width": null,
            "border": null,
            "align_items": null,
            "bottom": null,
            "_model_module": "@jupyter-widgets/base",
            "top": null,
            "grid_column": null,
            "overflow_y": null,
            "overflow_x": null,
            "grid_auto_flow": null,
            "grid_area": null,
            "grid_template_columns": null,
            "flex": null,
            "_model_name": "LayoutModel",
            "justify_items": null,
            "grid_row": null,
            "max_height": null,
            "align_content": null,
            "visibility": null,
            "align_self": null,
            "height": null,
            "min_height": null,
            "padding": null,
            "grid_auto_rows": null,
            "grid_gap": null,
            "max_width": null,
            "order": null,
            "_view_module_version": "1.2.0",
            "grid_template_areas": null,
            "object_position": null,
            "object_fit": null,
            "grid_auto_columns": null,
            "margin": null,
            "display": null,
            "left": null
          }
        },
        "6bc55907d14a4ebeba136dcd07fb456b": {
          "model_module": "@jupyter-widgets/controls",
          "model_name": "DescriptionStyleModel",
          "state": {
            "_view_name": "StyleView",
            "_model_name": "DescriptionStyleModel",
            "description_width": "",
            "_view_module": "@jupyter-widgets/base",
            "_model_module_version": "1.5.0",
            "_view_count": null,
            "_view_module_version": "1.2.0",
            "_model_module": "@jupyter-widgets/controls"
          }
        },
        "f05278e44ebb4d9c8320b2393d323b78": {
          "model_module": "@jupyter-widgets/base",
          "model_name": "LayoutModel",
          "state": {
            "_view_name": "LayoutView",
            "grid_template_rows": null,
            "right": null,
            "justify_content": null,
            "_view_module": "@jupyter-widgets/base",
            "overflow": null,
            "_model_module_version": "1.2.0",
            "_view_count": null,
            "flex_flow": null,
            "width": null,
            "min_width": null,
            "border": null,
            "align_items": null,
            "bottom": null,
            "_model_module": "@jupyter-widgets/base",
            "top": null,
            "grid_column": null,
            "overflow_y": null,
            "overflow_x": null,
            "grid_auto_flow": null,
            "grid_area": null,
            "grid_template_columns": null,
            "flex": null,
            "_model_name": "LayoutModel",
            "justify_items": null,
            "grid_row": null,
            "max_height": null,
            "align_content": null,
            "visibility": null,
            "align_self": null,
            "height": null,
            "min_height": null,
            "padding": null,
            "grid_auto_rows": null,
            "grid_gap": null,
            "max_width": null,
            "order": null,
            "_view_module_version": "1.2.0",
            "grid_template_areas": null,
            "object_position": null,
            "object_fit": null,
            "grid_auto_columns": null,
            "margin": null,
            "display": null,
            "left": null
          }
        }
      }
    }
  },
  "cells": [
    {
      "cell_type": "markdown",
      "metadata": {
        "id": "wa03JvvWmopd"
      },
      "source": [
        "#Deep Generative Filter for Motion Deblurring\n",
        "\n"
      ]
    },
    {
      "cell_type": "code",
      "metadata": {
        "id": "OXTGffK2XFmL"
      },
      "source": [
        "import numpy as np\n",
        "import os\n",
        "import math\n",
        "import h5py\n",
        "from tqdm import tqdm\n",
        "from PIL import Image\n",
        "import glob as gb\n",
        "import warnings\n",
        "warnings.filterwarnings('ignore')"
      ],
      "execution_count": 1,
      "outputs": []
    },
    {
      "cell_type": "code",
      "metadata": {
        "id": "Ohaw3QLw5_H1",
        "colab": {
          "base_uri": "https://localhost:8080/"
        },
        "outputId": "473b14f2-6d9f-40bf-ee97-2fa938d52271"
      },
      "source": [
        "from google.colab import drive\n",
        "drive.mount('/content/drive/',force_remount=True)\n",
        "os.chdir('/content/drive/My Drive/IVPMiniProject/') "
      ],
      "execution_count": 2,
      "outputs": [
        {
          "output_type": "stream",
          "text": [
            "Mounted at /content/drive/\n"
          ],
          "name": "stdout"
        }
      ]
    },
    {
      "cell_type": "code",
      "metadata": {
        "id": "MYDA-t2H5xyo"
      },
      "source": [
        "np.random.seed(42)"
      ],
      "execution_count": 3,
      "outputs": []
    },
    {
      "cell_type": "markdown",
      "metadata": {
        "id": "JyKsgklT5io8"
      },
      "source": [
        "## Data Utils"
      ]
    },
    {
      "cell_type": "code",
      "metadata": {
        "id": "r70YRhZm6UsW"
      },
      "source": [
        "def format_image(image_path, size):\n",
        "  image = Image.open(image_path)\n",
        "  # slice image into full and blur images\n",
        "  image_full = image.crop((0, 0, image.size[0] / 2, image.size[1]))\n",
        "  # Note: full image in left, the blur image in right\n",
        "  image_blur = image.crop((image.size[0] / 2, 0, image.size[0], image.size[1]))\n",
        "  image_full = image_full.resize((size, size), Image.ANTIALIAS)\n",
        "  image_blur = image_blur.resize((size, size), Image.ANTIALIAS)\n",
        "  return np.array(image_full), np.array(image_blur)"
      ],
      "execution_count": 4,
      "outputs": []
    },
    {
      "cell_type": "code",
      "metadata": {
        "id": "7qWwmmD9C3i8"
      },
      "source": [
        "def build_hdf5(jpeg_dir, size=256):\n",
        "  # put data in HDF5\n",
        "  hdf5_file = os.path.join('./data', 'data.h5')\n",
        "  with h5py.File(hdf5_file, 'w') as f:\n",
        "    for data_type in tqdm(['train', 'val', 'test']):\n",
        "      data_path = jpeg_dir + '/'+data_type +'/*.jpg' \n",
        "      images_path = gb.glob(data_path)\n",
        "      data_full = []\n",
        "      data_blur = []\n",
        "      for image_path in images_path:\n",
        "        image_full, image_blur = format_image(image_path, size)\n",
        "        data_full.append(image_full)\n",
        "        data_blur.append(image_blur)\n",
        "      f.create_dataset('%s_data_full' % data_type, data=data_full)\n",
        "      f.create_dataset('%s_data_blur' % data_type, data=data_blur)"
      ],
      "execution_count": 5,
      "outputs": []
    },
    {
      "cell_type": "code",
      "metadata": {
        "id": "-OWrqJzpBqFf"
      },
      "source": [
        "def load_data(data_type):\n",
        "  with h5py.File('data/data.h5', 'r') as f:\n",
        "    data_full = f['%s_data_full' % data_type][:].astype(np.float32)\n",
        "    data_full = data_full/127.5 - 1\n",
        "    data_blur = f['%s_data_blur' % data_type][:].astype(np.float32)\n",
        "    data_blur = data_blur/127.5 - 1\n",
        "    data_blur = np.array(data_blur)\n",
        "    data_full = np.array(data_full)\n",
        "    data_blur = np.transpose(data_blur,(0,3,1,2))\n",
        "    data_full = np.transpose(data_full,(0,3,1,2))\n",
        "    return data_blur, data_full"
      ],
      "execution_count": 6,
      "outputs": []
    },
    {
      "cell_type": "code",
      "metadata": {
        "id": "pz460hB2lvC5"
      },
      "source": [
        "def generate_image(full, blur, generated, path, epoch=None, index=None):\n",
        "  blur = np.transpose(blur,(0,2,3,1))\n",
        "  full = np.transpose(full,(0,2,3,1))\n",
        "  generated = np.transpose(generated,(0,2,3,1))\n",
        "  full = full * 127.5 + 127.5\n",
        "  blur = blur * 127.5 + 127.5\n",
        "  generated = generated * 127.5 + 127.5\n",
        "  for i in range(generated.shape[0]):\n",
        "    image_full = full[i, :, :, :]\n",
        "    image_blur = blur[i, :, :, :]\n",
        "    image_generated = generated[i, :, :, :]\n",
        "    image = np.concatenate((image_full, image_blur, image_generated), axis=1)\n",
        "    if (epoch is not None) and (index is not None):\n",
        "      Image.fromarray(image.astype(np.uint8)).save(path + str(epoch + 1) + '_' + str(index + 1) + '.png')\n",
        "    else:\n",
        "      Image.fromarray(image.astype(np.uint8)).save(path + str(i) + '.png')"
      ],
      "execution_count": 7,
      "outputs": []
    },
    {
      "cell_type": "code",
      "metadata": {
        "id": "IW2N4qXqXta4"
      },
      "source": [
        "# build_hdf5('./data')"
      ],
      "execution_count": 8,
      "outputs": []
    },
    {
      "cell_type": "markdown",
      "metadata": {
        "id": "ATsslGo1Q92W"
      },
      "source": [
        "##Models"
      ]
    },
    {
      "cell_type": "code",
      "metadata": {
        "id": "R0G-8UJuJjSY",
        "colab": {
          "base_uri": "https://localhost:8080/"
        },
        "outputId": "ae719152-c8aa-4506-9236-a37da055dac5"
      },
      "source": [
        "!pip install pytorch-model-summary\n",
        "import torch\n",
        "import torch.nn as nn\n",
        "import torch.nn.functional as F\n",
        "import torch.optim as optim\n",
        "from torchsummary import summary\n",
        "from torchvision import transforms,models\n",
        "from torch.utils.data import DataLoader, TensorDataset\n",
        "from pytorch_model_summary import summary"
      ],
      "execution_count": 9,
      "outputs": [
        {
          "output_type": "stream",
          "text": [
            "Requirement already satisfied: pytorch-model-summary in /usr/local/lib/python3.6/dist-packages (0.1.2)\n",
            "Requirement already satisfied: tqdm in /usr/local/lib/python3.6/dist-packages (from pytorch-model-summary) (4.41.1)\n",
            "Requirement already satisfied: torch in /usr/local/lib/python3.6/dist-packages (from pytorch-model-summary) (1.7.0+cu101)\n",
            "Requirement already satisfied: numpy in /usr/local/lib/python3.6/dist-packages (from pytorch-model-summary) (1.18.5)\n",
            "Requirement already satisfied: typing-extensions in /usr/local/lib/python3.6/dist-packages (from torch->pytorch-model-summary) (3.7.4.3)\n",
            "Requirement already satisfied: dataclasses in /usr/local/lib/python3.6/dist-packages (from torch->pytorch-model-summary) (0.8)\n",
            "Requirement already satisfied: future in /usr/local/lib/python3.6/dist-packages (from torch->pytorch-model-summary) (0.16.0)\n"
          ],
          "name": "stdout"
        }
      ]
    },
    {
      "cell_type": "code",
      "metadata": {
        "colab": {
          "base_uri": "https://localhost:8080/"
        },
        "id": "eGDD5uWz99zJ",
        "outputId": "bbf25ad0-d5e3-43fb-c978-8bff9e123be0"
      },
      "source": [
        "torch.manual_seed(42)"
      ],
      "execution_count": 10,
      "outputs": [
        {
          "output_type": "execute_result",
          "data": {
            "text/plain": [
              "<torch._C.Generator at 0x7f31903ed0a8>"
            ]
          },
          "metadata": {
            "tags": []
          },
          "execution_count": 10
        }
      ]
    },
    {
      "cell_type": "code",
      "metadata": {
        "id": "_N2QTjgVQcWX"
      },
      "source": [
        "class netG(nn.Module):\n",
        "  def __init__(self,nChannels=256,channel_rate=64,drop_rate=0.0,dilation=1):\n",
        "    super(netG, self).__init__()\n",
        "    self.channel_rate = channel_rate\n",
        "    self.nChannels = nChannels\n",
        "    self.drop_rate = drop_rate\n",
        "    self.dilation = 1\n",
        "    self.wh = nn.Parameter(torch.Tensor(4*self.channel_rate,3, 3, 3).normal_(0,0.0001))\n",
        "    self.w11 = nn.Parameter(torch.Tensor(4*self.channel_rate,self.nChannels,1, 1).normal_(0,0.0001))\n",
        "    self.w21 = nn.Parameter(torch.Tensor(4*self.channel_rate,self.nChannels+1*self.channel_rate,  1, 1).normal_(0,0.0001)) \n",
        "    self.w31 = nn.Parameter(torch.Tensor(4*self.channel_rate,self.nChannels+2*self.channel_rate, 1, 1).normal_(0,0.0001))\n",
        "    self.w41 = nn.Parameter(torch.Tensor(4*self.channel_rate,self.nChannels+3*self.channel_rate, 1, 1).normal_(0,0.0001))\n",
        "    self.w51 = nn.Parameter(torch.Tensor(4*self.channel_rate,self.nChannels+4*self.channel_rate, 1, 1).normal_(0,0.0001))\n",
        "    self.w61 = nn.Parameter(torch.Tensor(4*self.channel_rate, self.nChannels+5*self.channel_rate,1, 1).normal_(0,0.0001))\n",
        "    self.w71 = nn.Parameter(torch.Tensor(4*self.channel_rate, self.nChannels+6*self.channel_rate,1, 1).normal_(0,0.0001))\n",
        "    self.w81 = nn.Parameter(torch.Tensor(4*self.channel_rate,self.nChannels+7*self.channel_rate, 1, 1).normal_(0,0.0001))\n",
        "    self.w91 = nn.Parameter(torch.Tensor(4*self.channel_rate,self.nChannels+8*self.channel_rate, 1, 1).normal_(0,0.0001))\n",
        "    self.w101 = nn.Parameter(torch.Tensor(4*self.channel_rate, self.nChannels+9*self.channel_rate,1, 1).normal_(0,0.0001))\n",
        "    self.w12 =  nn.Parameter(torch.Tensor(self.channel_rate,4*self.channel_rate,3,3).normal_(0,0.0001))\n",
        "    self.w102 = self.w92 = self.w82 = self.w72 = self.w62 = self.w52 = self.w42 = self.w32 = self.w22 = self.w12\n",
        "    self.wt = nn.Parameter(torch.Tensor(self.channel_rate,self.channel_rate, 1, 1).normal_(0,0.0001))\n",
        "    self.wll1 = nn.Parameter(torch.Tensor(self.channel_rate,5*self.channel_rate,3,3).normal_(0,0.0001))\n",
        "    self.wll2 = nn.Parameter(torch.Tensor(3,self.channel_rate,3,3).normal_(0,0.0001))\n",
        "    self.wprelu = nn.Parameter(torch.Tensor(self.channel_rate).normal_(0,0.0001))\n",
        "    \n",
        "    self.rm11,self.rv11 = nn.Parameter(torch.zeros(self.nChannels),False),nn.Parameter(torch.ones(self.nChannels),False)\n",
        "    self.rm21,self.rv21 = nn.Parameter(torch.zeros(self.nChannels+1*self.channel_rate),False),nn.Parameter(torch.ones(self.nChannels+1*self.channel_rate),False)\n",
        "    self.rm31,self.rv31 = nn.Parameter(torch.zeros(self.nChannels+2*self.channel_rate),False),nn.Parameter(torch.ones(self.nChannels+2*self.channel_rate),False)\n",
        "    self.rm41,self.rv41 = nn.Parameter(torch.zeros(self.nChannels+3*self.channel_rate),False),nn.Parameter(torch.ones(self.nChannels+3*self.channel_rate),False)\n",
        "    self.rm51,self.rv51 = nn.Parameter(torch.zeros(self.nChannels+4*self.channel_rate),False),nn.Parameter(torch.ones(self.nChannels+4*self.channel_rate),False)\n",
        "    self.rm61,self.rv61 = nn.Parameter(torch.zeros(self.nChannels+5*self.channel_rate),False),nn.Parameter(torch.ones(self.nChannels+5*self.channel_rate),False)\n",
        "    self.rm71,self.rv71 = nn.Parameter(torch.zeros(self.nChannels+6*self.channel_rate),False),nn.Parameter(torch.ones(self.nChannels+6*self.channel_rate),False)\n",
        "    self.rm81,self.rv81 = nn.Parameter(torch.zeros(self.nChannels+7*self.channel_rate),False),nn.Parameter(torch.ones(self.nChannels+7*self.channel_rate),False)\n",
        "    self.rm91,self.rv91 = nn.Parameter(torch.zeros(self.nChannels+8*self.channel_rate),False),nn.Parameter(torch.ones(self.nChannels+8*self.channel_rate),False)\n",
        "    self.rm101,self.rv101 = nn.Parameter(torch.zeros(self.nChannels+9*self.channel_rate),False),nn.Parameter(torch.ones(self.nChannels+9*self.channel_rate),False)\n",
        "    self.rm102 = self.rm92 = self.rm82 = self.rm72 = self.rm62 = self.rm52 = self.rm42 = self.rm32 = self.rm22 = self.rm12 = nn.Parameter(torch.zeros(4*self.channel_rate),False)\n",
        "    self.rv102 = self.rv92 = self.rv82 = self.rv72 = self.rv62 = self.rv52 = self.rv42 = self.rv32 = self.rv22 = self.rv12 = nn.Parameter(torch.ones(4*self.channel_rate),False) \n",
        "    self.rm103 = self.rm93 = self.rm83 = self.rm73 = self.rm63 = self.rm53 = self.rm43 = self.rm33 = self.rm23 = self.rm13 = nn.Parameter(torch.zeros(self.channel_rate),False)\n",
        "    self.rv103 = self.rv93 = self.rv83 = self.rv73 = self.rv63 = self.rv53 = self.rv43 = self.rv33 = self.rv23 = self.rv13 = nn.Parameter(torch.ones(self.channel_rate),False) \n",
        "    self.rmt1,self.rvt1 = nn.Parameter(torch.zeros(self.channel_rate),False),nn.Parameter(torch.ones(self.channel_rate),False)\n",
        "    self.rml1,self.rvl1 = nn.Parameter(torch.zeros(self.channel_rate),False),nn.Parameter(torch.ones(self.channel_rate),False)\n",
        "\n",
        "  def forward(self,x):\n",
        "    #head\n",
        "    x = F.conv2d(x,self.wh,bias=None,dilation=1,padding=1)\n",
        "    x1 = x\n",
        "    #dense_block-1\n",
        "    d = F.batch_norm(x,self.rm11,self.rv11,training=True,momentum=0.9)\n",
        "    d = F.leaky_relu(d,0.2)\n",
        "    d = F.conv2d(d,self.w11,bias=None)\n",
        "    d = F.batch_norm(d,self.rm12,self.rv12,training=True,momentum=0.9)\n",
        "    d = F.conv2d(d,self.w12,bias=None,dilation=1,padding=1)\n",
        "    d = F.batch_norm(d,self.rm13,self.rv13,training=True,momentum=0.9)\n",
        "    d = F.dropout2d(d,p=self.drop_rate)\n",
        "    \n",
        "    x = torch.cat([x,d],1)\n",
        "    #dense_block-2\n",
        "    d = F.batch_norm(x,self.rm21,self.rv21,training=True,momentum=0.9)\n",
        "    d = F.leaky_relu(d,0.2)\n",
        "    d = F.conv2d(d,self.w21,bias=None)\n",
        "    d = F.batch_norm(d,self.rm22,self.rv22,training=True,momentum=0.9)\n",
        "    d = F.conv2d(d,self.w22,bias=None,dilation=1,padding=1)\n",
        "    d = F.batch_norm(d,self.rm23,self.rv23,training=True,momentum=0.9)\n",
        "    d = F.dropout2d(d,p=self.drop_rate)\n",
        "    \n",
        "    x = torch.cat([x,d],1)\n",
        "    #dense_block-3\n",
        "    d = F.batch_norm(x,self.rm31,self.rv31,training=True,momentum=0.9)\n",
        "    d = F.leaky_relu(d,0.2)\n",
        "    d = F.conv2d(d,self.w31,bias=None)\n",
        "    d = F.batch_norm(d,self.rm32,self.rv32,training=True,momentum=0.9)\n",
        "    d = F.conv2d(d, self.w32,bias=None,dilation=2,padding=2)\n",
        "    d = F.batch_norm(d,self.rm33,self.rv33,training=True,momentum=0.9)\n",
        "    d = F.dropout2d(d,p=self.drop_rate)\n",
        "    \n",
        "    x = torch.cat([x,d],1)\n",
        "    #dense_block-4\n",
        "    d = F.batch_norm(x,self.rm41,self.rv41,training=True,momentum=0.9)\n",
        "    d = F.leaky_relu(d,0.2)\n",
        "    d = F.conv2d(d,self.w41,bias=None)\n",
        "    d = F.batch_norm(d,self.rm42,self.rv42,training=True,momentum=0.9)\n",
        "    d = F.conv2d(d,self.w42,bias=None,dilation=1,padding=1)\n",
        "    d = F.batch_norm(d,self.rm43,self.rv43,training=True,momentum=0.9)\n",
        "    d = F.dropout2d(d,p=self.drop_rate)\n",
        "    \n",
        "    x = torch.cat([x,d],1)\n",
        "    #dense_block-5\n",
        "    d = F.batch_norm(x,self.rm51, self.rv51, training=True,momentum=0.9)\n",
        "    d = F.leaky_relu(d,0.2)\n",
        "    d = F.conv2d(d,self.w51,bias=None)\n",
        "    d = F.batch_norm(d,self.rm52,self.rv52, training=True,momentum=0.9)\n",
        "    d = F.conv2d(d, self.w52, bias=None,dilation=3,padding=3)\n",
        "    d = F.batch_norm(d,self.rm53, self.rv53 ,training=True,momentum=0.9)\n",
        "    d = F.dropout2d(d,p=self.drop_rate)\n",
        "    \n",
        "    x = torch.cat([x,d],1)\n",
        "    #dense_block-6\n",
        "    d = F.batch_norm(x,self.rm61,self.rv61,training=True,momentum=0.9)\n",
        "    d = F.leaky_relu(d,0.2)\n",
        "    d = F.conv2d(d,self.w61, bias=None)\n",
        "    d = F.batch_norm(d,self.rm62, self.rv62,training=True,momentum=0.9)\n",
        "    d = F.conv2d(d,self.w62, bias=None,dilation=1,padding=1)\n",
        "    d = F.batch_norm(d,self.rm63,self.rv63,training=True,momentum=0.9)\n",
        "    d = F.dropout2d(d,p=self.drop_rate)\n",
        "    \n",
        "    x = torch.cat([x,d],1)\n",
        "    #dense_block-7\n",
        "    d = F.batch_norm(x,self.rm71, self.rv71, training=True,momentum=0.9)\n",
        "    d = F.leaky_relu(d,0.2)\n",
        "    d = F.conv2d(d, self.w71,bias=None)\n",
        "    d = F.batch_norm(d,self.rm72,self.rv72,training=True,momentum=0.9)\n",
        "    d = F.conv2d(d, self.w72,bias=None,dilation=2,padding=2)\n",
        "    d = F.batch_norm(d,self.rm73,self.rv73,training=True,momentum=0.9)\n",
        "    d = F.dropout2d(d,p=self.drop_rate)\n",
        "    \n",
        "    x = torch.cat([x,d],1)\n",
        "    #dense_block-8\n",
        "    d = F.batch_norm(x,self.rm81, self.rv81,training=True,momentum=0.9)\n",
        "    d = F.leaky_relu(d,0.2)\n",
        "    d = F.conv2d(d,self.w81,bias=None)\n",
        "    d = F.batch_norm(d,self.rm82, self.rv82,training=True,momentum=0.9)\n",
        "    d = F.conv2d(d,self.w82,bias=None,dilation=1,padding=1)\n",
        "    d = F.batch_norm(d,self.rm83, self.rv83,training=True,momentum=0.9)\n",
        "    d = F.dropout2d(d,p=self.drop_rate)\n",
        "    \n",
        "    x = torch.cat([x,d],1)\n",
        "\n",
        "    #dense_block-9\n",
        "    d = F.batch_norm(x,self.rm91,self.rv91,training=True,momentum=0.9)\n",
        "    d = F.leaky_relu(d,0.2)\n",
        "    d = F.conv2d(d,self.w91,bias=None)\n",
        "    d = F.batch_norm(d,self.rm92,self.rv92,training=True,momentum=0.9)\n",
        "    d = F.conv2d(d,self.w92,bias=None,dilation=1,padding=1)\n",
        "    d = F.batch_norm(d,self.rm93,self.rv93,training=True,momentum=0.9)\n",
        "    d = F.dropout2d(d,p=self.drop_rate)\n",
        "    \n",
        "    x = torch.cat([x,d],1)\n",
        "\n",
        "    #dense_block-10\n",
        "    d = F.batch_norm(x,self.rm101,self.rv101,training=True,momentum=0.9)\n",
        "    d = F.leaky_relu(d,0.2)\n",
        "    d = F.conv2d(d,self.w101,bias=None)\n",
        "    d = F.batch_norm(d,self.rm102,self.rv102,training=True,momentum=0.9)\n",
        "    d = F.conv2d(d,self.w102,bias=None,dilation=1,padding=1)\n",
        "    d = F.batch_norm(d,self.rm103,self.rv103,training=True,momentum=0.9)\n",
        "    d = F.dropout2d(d,p=self.drop_rate)\n",
        "   \n",
        "    #tail\n",
        "    x = F.leaky_relu(d,0.2)\n",
        "    x = F.conv2d(x,self.wt,bias=None)\n",
        "    x = F.batch_norm(x,self.rmt1,self.rvt1,training=True,momentum=0.9)\n",
        "    x = F.dropout2d(x,p=self.drop_rate)\n",
        "\n",
        "    x = torch.cat([x,x1],1)\n",
        "    \n",
        "    #last_layer\n",
        "    x = F.conv2d(x,self.wll1,bias=None,dilation=1,padding=1)\n",
        "    x = F.prelu(x,self.wprelu)\n",
        "    x = F.conv2d(x,self.wll2,bias=None,dilation=1,padding=1)\n",
        "    x = F.tanh(x)\n",
        "\n",
        "    return x"
      ],
      "execution_count": 11,
      "outputs": []
    },
    {
      "cell_type": "code",
      "metadata": {
        "id": "XIcy-24l5jc4"
      },
      "source": [
        "class netD(nn.Module):\n",
        "  def __init__(self,channel_rate=64,patch_size=64,image_size=256,device='cuda'):\n",
        "    super(netD,self).__init__()\n",
        "    self.channel_rate = channel_rate\n",
        "    self.patch_size = patch_size\n",
        "    self.image_size = image_size\n",
        "    self.device = device\n",
        "    self.conv1 = nn.Conv2d(3,self.channel_rate,3,2)\n",
        "    self.conv2 = nn.Conv2d(self.channel_rate,2*self.channel_rate,3,2)\n",
        "    self.conv3 = nn.Conv2d(2*self.channel_rate,3*self.channel_rate,3,2)\n",
        "    self.conv4 = nn.Conv2d(3*self.channel_rate,4*self.channel_rate,3,2)\n",
        "    self.bn1 = nn.BatchNorm2d(self.channel_rate)\n",
        "    self.bn2 = nn.BatchNorm2d(2*self.channel_rate)\n",
        "    self.bn3 = nn.BatchNorm2d(3*self.channel_rate)\n",
        "    self.bn4 = nn.BatchNorm2d(4*self.channel_rate)\n",
        "    self.dense1 = nn.Linear(4*self.channel_rate*3*3,1)\n",
        "  \n",
        "  def forward(self,x):\n",
        "    list_row_idx = [(i * self.channel_rate, (i + 1) * self.channel_rate) for i in range(int(self.image_size/self.patch_size))]\n",
        "    list_col_idx = [(i * self.channel_rate, (i + 1) * self.channel_rate) for i in range(int(self.image_size/self.patch_size))]\n",
        "\n",
        "    list_patch = []\n",
        "    for row_idx in list_row_idx:\n",
        "      for col_idx in list_col_idx:\n",
        "        x_patch = x[:, :, row_idx[0]:row_idx[1], col_idx[0]:col_idx[1]]\n",
        "        list_patch.append(x_patch)\n",
        "\n",
        "    list_output=0.0\n",
        "    for x in list_patch:\n",
        "      x = self.conv1(x)\n",
        "      x = self.bn1(x)\n",
        "      x = F.leaky_relu(x,0.2)\n",
        "      x = self.conv2(x)\n",
        "      x = self.bn2(x)\n",
        "      x = F.leaky_relu(x,0.2)\n",
        "      x = self.conv3(x)\n",
        "      x = self.bn3(x)\n",
        "      x = F.leaky_relu(x,0.2)\n",
        "      x = self.conv4(x)\n",
        "      x = self.bn4(x)\n",
        "      x = F.leaky_relu(x,0.2)\n",
        "      x = torch.flatten(x,1)\n",
        "      x = self.dense1(x)\n",
        "      x = F.sigmoid(x)\n",
        "      list_output+=x\n",
        "    output=list_output/len(list_patch)\n",
        "    \n",
        "    return output"
      ],
      "execution_count": 12,
      "outputs": []
    },
    {
      "cell_type": "code",
      "metadata": {
        "id": "Cpd0I-J_oyFU"
      },
      "source": [
        "class netD_on_G(nn.Module):\n",
        "  def __init__(self,modelG,modelD,channel_rate=64,image_size=256,dropout=0.0):\n",
        "    super(netD_on_G,self).__init__()\n",
        "    self.channel_rate = channel_rate\n",
        "    self.patch_size = self.channel_rate\n",
        "    self.image_size = image_size\n",
        "    self.dropout = dropout\n",
        "    self.modelG = modelG\n",
        "    self.modelD = modelD\n",
        "\n",
        "  def forward(self,x):\n",
        "    x = self.modelG(x)\n",
        "    x = self.modelD(x)\n",
        "    return x"
      ],
      "execution_count": 13,
      "outputs": []
    },
    {
      "cell_type": "markdown",
      "metadata": {
        "id": "uO275_wlPBSQ"
      },
      "source": [
        "##Losses"
      ]
    },
    {
      "cell_type": "code",
      "metadata": {
        "id": "vDfQv8OO83XO"
      },
      "source": [
        "class VGGPerceptualLoss(nn.Module):\n",
        "  def __init__(self, resize=True):\n",
        "    super(VGGPerceptualLoss, self).__init__()\n",
        "    blocks = []\n",
        "    blocks.append(models.vgg16(pretrained=True).features[:4].eval())\n",
        "    blocks.append(models.vgg16(pretrained=True).features[4:9].eval())\n",
        "    blocks.append(models.vgg16(pretrained=True).features[9:16].eval())\n",
        "    blocks.append(models.vgg16(pretrained=True).features[16:23].eval())\n",
        "    for bl in blocks:\n",
        "      for p in bl.parameters():\n",
        "        p.requires_grad = False\n",
        "        \n",
        "    self.blocks = nn.ModuleList(blocks)\n",
        "    self.transform = F.interpolate\n",
        "    self.mean = nn.Parameter(torch.tensor([0.485, 0.456, 0.406], device='cuda').view(1,3,1,1))\n",
        "    self.std = nn.Parameter(torch.tensor([0.229, 0.224, 0.225], device='cuda').view(1,3,1,1))\n",
        "    self.resize = resize\n",
        "\n",
        "  def forward(self, input, target):\n",
        "    if input.shape[1] != 3:\n",
        "      input = input.repeat(1, 3, 1, 1)\n",
        "      target = target.repeat(1, 3, 1, 1)\n",
        "    input = (input-self.mean) / self.std\n",
        "    target = (target-self.mean) / self.std\n",
        "    if self.resize:\n",
        "      input = self.transform(input, mode='bilinear', size=(224, 224), align_corners=False)\n",
        "      target = self.transform(target, mode='bilinear', size=(224, 224), align_corners=False)\n",
        "    loss = 0.0\n",
        "    x = input\n",
        "    y = target\n",
        "    for block in self.blocks:\n",
        "      x = block(x)\n",
        "      y = block(y)\n",
        "      loss += F.l1_loss(x, y)\n",
        "    return loss"
      ],
      "execution_count": 14,
      "outputs": []
    },
    {
      "cell_type": "code",
      "metadata": {
        "id": "55nLEPRv_-Pz"
      },
      "source": [
        "def generator_loss(input,target,K1=145,K2=170):\n",
        "  per_loss = VGGPerceptualLoss().to('cuda')\n",
        "  return K1*per_loss(input,target)+K2*F.l1_loss(input,target)\n",
        "\n",
        "def adversarial_loss(y_pred):\n",
        "  return -1*torch.log(y_pred)"
      ],
      "execution_count": 15,
      "outputs": []
    },
    {
      "cell_type": "markdown",
      "metadata": {
        "id": "VL9qgxY1lGi-"
      },
      "source": [
        "##Train "
      ]
    },
    {
      "cell_type": "code",
      "metadata": {
        "id": "4zSPIzV1mTVv"
      },
      "source": [
        "data_train = TensorDataset(torch.from_numpy(load_data('train')[0]),torch.from_numpy(load_data('train')[1]))\n",
        "# data_transforms = transforms.Compose([transforms.RandomHorizontalFlip(),transforms.RandomVerticalFlip(),transforms.RandomRotation(20)])\n",
        "train_loader = DataLoader(data_train,batch_size=1,shuffle=True,num_workers=2)"
      ],
      "execution_count": 16,
      "outputs": []
    },
    {
      "cell_type": "code",
      "metadata": {
        "id": "ziLvA8O8GUIU"
      },
      "source": [
        "def fit(modelG,modelD,modelD_on_G,train_loader,epochs,device):\n",
        "  optimizerG = optim.Adam(modelG.parameters(),lr=0.0002, betas=(0.9, 0.999))\n",
        "  optimizerD = optim.Adam(modelD.parameters(),lr=0.0002, betas=(0.9, 0.999))\n",
        "  optimizerD_on_G = optim.SGD(modelD_on_G.parameters(),lr=0.0002,momentum=0.9,nesterov=True, weight_decay=1e-6)\n",
        "  criteriaD = nn.BCELoss()\n",
        "  G_losses,D_losses,D_on_G_losses=[],[],[]\n",
        "  #criteriaG : generator_loss\n",
        "  #cireriaG_on_D: adversarial_loss\n",
        "  for epoch in range(epochs):\n",
        "    for i,data in enumerate(train_loader):\n",
        "      image_blur, image_full = data[0].to(device),data[1].to(device)\n",
        "      ############################\n",
        "      # (1) Update D network\n",
        "      ###########################\n",
        "      ## Train with all-real batch\n",
        "      optimizerD.zero_grad()\n",
        "      pred = modelD(image_full).view(-1)\n",
        "      b_size = image_blur.size(0)\n",
        "      y = torch.full((b_size,), 1.0, device=device)  \n",
        "      errD_real = criteriaD(pred,y)\n",
        "      errD_real.backward()\n",
        "      D_x = pred.mean().item()\n",
        "\n",
        "      ## Train with all-fake batch\n",
        "      fake_clear = modelG(image_blur)\n",
        "      y.fill_(0)\n",
        "      pred = modelD(fake_clear.detach()).view(-1)\n",
        "      errD_fake = criteriaD(pred,y)\n",
        "      errD_fake.backward()\n",
        "      D_G_z1 = pred.mean().item()\n",
        "      errD = errD_real + errD_fake\n",
        "\n",
        "      optimizerD.step()\n",
        "\n",
        "      ############################\n",
        "      # (2) Update D_on_G network\n",
        "      ###########################\n",
        "      optimizerD_on_G.zero_grad()\n",
        "      pred = modelD(modelG(image_blur).detach()).view(-1)\n",
        "      adv_loss = adversarial_loss(pred)\n",
        "      adv_loss.backward()\n",
        "      D_G_z2 = pred.mean().item()\n",
        "      optimizerD_on_G.step()\n",
        "\n",
        "      ############################\n",
        "      # (3) Update G network\n",
        "      ###########################\n",
        "      optimizerG.zero_grad()\n",
        "      pred = modelG(image_blur)\n",
        "      # Calculate G's loss based on this output\n",
        "      errG = generator_loss(pred,image_full)\n",
        "      # Calculate gradients for G\n",
        "      errG.backward()\n",
        "      G_z = pred.mean().item()\n",
        "      # Updating G\n",
        "      optimizerG.step()\n",
        "\n",
        "      if i % 50 == 0:\n",
        "        print('[%d/%d][%d/%d]\\tLoss_D: %.4f\\tLoss_G: %.4f\\tLoss D_on_G: %.4f' % (epoch, epochs, i, len(train_loader), \n",
        "          errD.item(), errG.item(), adv_loss.item()))\n",
        "      \n",
        "      # Saving Losses of each iter\n",
        "      G_losses.append(errG.item())\n",
        "      D_losses.append(errD.item())\n",
        "      D_on_G_losses.append(adv_loss.item())\n",
        "\n",
        "  return G_losses,D_losses,D_on_G_losses"
      ],
      "execution_count": null,
      "outputs": []
    },
    {
      "cell_type": "code",
      "metadata": {
        "id": "o8IyOBNwRvPX"
      },
      "source": [
        "epochs=10\n",
        "use_cuda=True\n",
        "device = torch.device(\"cuda\" if (use_cuda and torch.cuda.is_available()) else \"cpu\")\n",
        "modelG = netG().to(device)\n",
        "modelD = netD().to(device)\n",
        "modelD_on_G = netD_on_G(modelG,modelD).to(device)"
      ],
      "execution_count": null,
      "outputs": []
    },
    {
      "cell_type": "code",
      "metadata": {
        "colab": {
          "base_uri": "https://localhost:8080/"
        },
        "id": "FOBg3_UPWscI",
        "outputId": "4ce16c30-53ff-466e-801a-c74f5de1962c"
      },
      "source": [
        "modelG.load_state_dict(torch.load('./models/30 epochs/modelG.pt'))\n",
        "modelD.load_state_dict(torch.load('./models/30 epochs/modelD.pt'))\n",
        "modelD_on_G.load_state_dict(torch.load('./models/30 epochs/modelD_on_G.pt'))"
      ],
      "execution_count": null,
      "outputs": [
        {
          "output_type": "execute_result",
          "data": {
            "text/plain": [
              "<All keys matched successfully>"
            ]
          },
          "metadata": {
            "tags": []
          },
          "execution_count": 19
        }
      ]
    },
    {
      "cell_type": "code",
      "metadata": {
        "colab": {
          "base_uri": "https://localhost:8080/",
          "height": 1000,
          "referenced_widgets": [
            "a9c5fbe7020d4d91bd67f15dd109072c",
            "aa73d214280a45fdbf5e8249da9f7376",
            "88745536fb064fe1a49af47c5434e653",
            "ffebd53384474f638f732e84b87c522e",
            "69723696e15c4e82884ef09553c172c3",
            "77d082f1e8d14c0cafbfbc969ca12905",
            "6bc55907d14a4ebeba136dcd07fb456b",
            "f05278e44ebb4d9c8320b2393d323b78"
          ]
        },
        "id": "BPfol7GcJpuK",
        "outputId": "9ecd3551-345f-4d59-b1b9-6b3c2c0249fe"
      },
      "source": [
        "G_losses,D_losses,D_on_G_losses = fit(modelG,modelD,modelD_on_G,train_loader,epochs,device)"
      ],
      "execution_count": null,
      "outputs": [
        {
          "output_type": "stream",
          "text": [
            "Downloading: \"https://download.pytorch.org/models/vgg16-397923af.pth\" to /root/.cache/torch/hub/checkpoints/vgg16-397923af.pth\n"
          ],
          "name": "stderr"
        },
        {
          "output_type": "display_data",
          "data": {
            "application/vnd.jupyter.widget-view+json": {
              "model_id": "a9c5fbe7020d4d91bd67f15dd109072c",
              "version_minor": 0,
              "version_major": 2
            },
            "text/plain": [
              "HBox(children=(FloatProgress(value=0.0, max=553433881.0), HTML(value='')))"
            ]
          },
          "metadata": {
            "tags": []
          }
        },
        {
          "output_type": "stream",
          "text": [
            "\n",
            "[0/10][0/297]\tLoss_D: 1.3932\tLoss_G: 697.2098\tLoss D_on_G: 0.4699\n",
            "[0/10][50/297]\tLoss_D: 0.6027\tLoss_G: 488.9244\tLoss D_on_G: 0.9314\n",
            "[0/10][100/297]\tLoss_D: 0.7163\tLoss_G: 357.1435\tLoss D_on_G: 1.2984\n",
            "[0/10][150/297]\tLoss_D: 0.4745\tLoss_G: 477.2982\tLoss D_on_G: 1.5510\n",
            "[0/10][200/297]\tLoss_D: 0.5251\tLoss_G: 789.7498\tLoss D_on_G: 0.9711\n",
            "[0/10][250/297]\tLoss_D: 0.6104\tLoss_G: 964.8044\tLoss D_on_G: 0.8153\n",
            "[1/10][0/297]\tLoss_D: 0.8524\tLoss_G: 598.0364\tLoss D_on_G: 0.6950\n",
            "[1/10][50/297]\tLoss_D: 0.4109\tLoss_G: 385.8402\tLoss D_on_G: 1.2827\n",
            "[1/10][100/297]\tLoss_D: 0.5244\tLoss_G: 339.3220\tLoss D_on_G: 1.3213\n",
            "[1/10][150/297]\tLoss_D: 0.7016\tLoss_G: 553.8557\tLoss D_on_G: 0.8465\n",
            "[1/10][200/297]\tLoss_D: 0.7233\tLoss_G: 470.7755\tLoss D_on_G: 0.9785\n",
            "[1/10][250/297]\tLoss_D: 0.9729\tLoss_G: 388.7202\tLoss D_on_G: 0.5750\n",
            "[2/10][0/297]\tLoss_D: 0.9352\tLoss_G: 393.6227\tLoss D_on_G: 0.7448\n",
            "[2/10][50/297]\tLoss_D: 1.1978\tLoss_G: 600.5901\tLoss D_on_G: 0.5793\n",
            "[2/10][100/297]\tLoss_D: 0.8546\tLoss_G: 277.6605\tLoss D_on_G: 0.9621\n",
            "[2/10][150/297]\tLoss_D: 0.9828\tLoss_G: 314.2659\tLoss D_on_G: 0.7736\n",
            "[2/10][200/297]\tLoss_D: 0.8799\tLoss_G: 373.1929\tLoss D_on_G: 0.5971\n",
            "[2/10][250/297]\tLoss_D: 0.7008\tLoss_G: 573.5513\tLoss D_on_G: 0.7659\n",
            "[3/10][0/297]\tLoss_D: 0.9144\tLoss_G: 792.5866\tLoss D_on_G: 0.5571\n",
            "[3/10][50/297]\tLoss_D: 1.4212\tLoss_G: 372.4661\tLoss D_on_G: 0.4249\n",
            "[3/10][100/297]\tLoss_D: 0.7716\tLoss_G: 487.3967\tLoss D_on_G: 0.7929\n",
            "[3/10][150/297]\tLoss_D: 1.0126\tLoss_G: 544.8549\tLoss D_on_G: 0.6458\n",
            "[3/10][200/297]\tLoss_D: 1.0468\tLoss_G: 556.9396\tLoss D_on_G: 0.4714\n",
            "[3/10][250/297]\tLoss_D: 0.6402\tLoss_G: 527.5074\tLoss D_on_G: 0.9737\n",
            "[4/10][0/297]\tLoss_D: 0.9678\tLoss_G: 493.8428\tLoss D_on_G: 0.6971\n",
            "[4/10][50/297]\tLoss_D: 0.6424\tLoss_G: 493.9256\tLoss D_on_G: 1.3268\n",
            "[4/10][100/297]\tLoss_D: 0.5744\tLoss_G: 748.4006\tLoss D_on_G: 1.0047\n",
            "[4/10][150/297]\tLoss_D: 1.4498\tLoss_G: 721.4748\tLoss D_on_G: 0.4417\n",
            "[4/10][200/297]\tLoss_D: 0.6054\tLoss_G: 347.9251\tLoss D_on_G: 1.4380\n",
            "[4/10][250/297]\tLoss_D: 0.7780\tLoss_G: 448.2795\tLoss D_on_G: 0.7983\n",
            "[5/10][0/297]\tLoss_D: 1.6550\tLoss_G: 624.5352\tLoss D_on_G: 0.3009\n",
            "[5/10][50/297]\tLoss_D: 0.5311\tLoss_G: 328.2686\tLoss D_on_G: 1.8033\n",
            "[5/10][100/297]\tLoss_D: 0.7123\tLoss_G: 603.0239\tLoss D_on_G: 0.6933\n",
            "[5/10][150/297]\tLoss_D: 0.7152\tLoss_G: 663.0710\tLoss D_on_G: 0.7788\n",
            "[5/10][200/297]\tLoss_D: 0.4728\tLoss_G: 550.4644\tLoss D_on_G: 0.9793\n",
            "[5/10][250/297]\tLoss_D: 0.5561\tLoss_G: 399.2073\tLoss D_on_G: 1.0518\n",
            "[6/10][0/297]\tLoss_D: 0.8138\tLoss_G: 387.5431\tLoss D_on_G: 0.7370\n",
            "[6/10][50/297]\tLoss_D: 1.0658\tLoss_G: 526.8604\tLoss D_on_G: 0.5560\n",
            "[6/10][100/297]\tLoss_D: 0.7327\tLoss_G: 853.3784\tLoss D_on_G: 0.7618\n",
            "[6/10][150/297]\tLoss_D: 0.5382\tLoss_G: 304.1339\tLoss D_on_G: 1.1515\n",
            "[6/10][200/297]\tLoss_D: 1.1062\tLoss_G: 758.4544\tLoss D_on_G: 0.4686\n",
            "[6/10][250/297]\tLoss_D: 0.9163\tLoss_G: 397.7022\tLoss D_on_G: 0.7866\n",
            "[7/10][0/297]\tLoss_D: 0.7331\tLoss_G: 472.4756\tLoss D_on_G: 0.8092\n",
            "[7/10][50/297]\tLoss_D: 0.9800\tLoss_G: 720.5914\tLoss D_on_G: 0.4707\n",
            "[7/10][100/297]\tLoss_D: 1.2001\tLoss_G: 362.0390\tLoss D_on_G: 0.5145\n",
            "[7/10][150/297]\tLoss_D: 0.7019\tLoss_G: 327.3813\tLoss D_on_G: 0.9976\n",
            "[7/10][200/297]\tLoss_D: 0.4844\tLoss_G: 334.7301\tLoss D_on_G: 1.5772\n",
            "[7/10][250/297]\tLoss_D: 1.2075\tLoss_G: 545.3076\tLoss D_on_G: 0.4544\n",
            "[8/10][0/297]\tLoss_D: 1.1237\tLoss_G: 487.0220\tLoss D_on_G: 0.4945\n",
            "[8/10][50/297]\tLoss_D: 0.4931\tLoss_G: 456.5163\tLoss D_on_G: 1.0431\n",
            "[8/10][100/297]\tLoss_D: 1.1179\tLoss_G: 459.8972\tLoss D_on_G: 0.6645\n",
            "[8/10][150/297]\tLoss_D: 0.8624\tLoss_G: 532.9923\tLoss D_on_G: 0.7917\n",
            "[8/10][200/297]\tLoss_D: 0.9054\tLoss_G: 534.2933\tLoss D_on_G: 0.6890\n",
            "[8/10][250/297]\tLoss_D: 0.6174\tLoss_G: 422.3962\tLoss D_on_G: 1.0698\n",
            "[9/10][0/297]\tLoss_D: 0.8135\tLoss_G: 584.7542\tLoss D_on_G: 0.6422\n",
            "[9/10][50/297]\tLoss_D: 0.9801\tLoss_G: 621.4100\tLoss D_on_G: 0.4705\n",
            "[9/10][100/297]\tLoss_D: 1.4381\tLoss_G: 739.6309\tLoss D_on_G: 0.3411\n",
            "[9/10][150/297]\tLoss_D: 0.5779\tLoss_G: 342.6810\tLoss D_on_G: 0.9438\n",
            "[9/10][200/297]\tLoss_D: 0.9497\tLoss_G: 367.0152\tLoss D_on_G: 0.8263\n",
            "[9/10][250/297]\tLoss_D: 0.8828\tLoss_G: 649.4286\tLoss D_on_G: 0.6693\n"
          ],
          "name": "stdout"
        }
      ]
    },
    {
      "cell_type": "code",
      "metadata": {
        "id": "ye751wTybumn",
        "colab": {
          "base_uri": "https://localhost:8080/",
          "height": 513
        },
        "outputId": "485a660b-72ff-42d6-822e-bd51d67bdcba"
      },
      "source": [
        "import matplotlib.pyplot as plt\n",
        "plt.figure(figsize=(8,8))\n",
        "plt.title(\"Generator and Discriminator Loss During Training\")\n",
        "plt.plot(G_losses,label=\"G\")\n",
        "plt.plot(D_losses,label=\"D\")\n",
        "plt.xlabel(\"iterations\")\n",
        "plt.ylabel(\"Loss\")\n",
        "plt.legend()\n",
        "plt.show()"
      ],
      "execution_count": null,
      "outputs": [
        {
          "output_type": "display_data",
          "data": {
            "image/png": "[encoded data removed]",
            "text/plain": [
              "<Figure size 576x576 with 1 Axes>"
            ]
          },
          "metadata": {
            "tags": [],
            "needs_background": "light"
          }
        }
      ]
    },
    {
      "cell_type": "code",
      "metadata": {
        "id": "Il_DTuAtlXqG"
      },
      "source": [
        "torch.save(modelG.state_dict(),'./modelG.pt')\n",
        "torch.save(modelD.state_dict(),'./modelD.pt')\n",
        "torch.save(modelD_on_G.state_dict(),'./modelD_on_G.pt')"
      ],
      "execution_count": null,
      "outputs": []
    },
    {
      "cell_type": "markdown",
      "metadata": {
        "id": "qDFlpAS3u4hO"
      },
      "source": [
        "##Testing"
      ]
    },
    {
      "cell_type": "code",
      "metadata": {
        "id": "setsi0y586mn"
      },
      "source": [
        "data_test = TensorDataset(torch.from_numpy(load_data('test')[0]),torch.from_numpy(load_data('test')[1]))\n",
        "test_loader = DataLoader(data_test,batch_size=1,shuffle=True,num_workers=2)"
      ],
      "execution_count": 14,
      "outputs": []
    },
    {
      "cell_type": "code",
      "metadata": {
        "id": "1x8TAW1n0Z7w"
      },
      "source": [
        "def test(modelG,test_loader):\n",
        "  avg_psnr=0\n",
        "  for i,data in enumerate(test_loader):\n",
        "    image_blur, image_full = data[0].to(device),data[1].to(device)\n",
        "    clear_image = modelG(image_blur)\n",
        "    generate_image(image_full.cpu().detach().numpy(), image_blur.cpu().detach().numpy(), clear_image.detach().cpu().numpy(), './results/',0,i)\n",
        "    mse = np.mean((image_full.cpu().detach().numpy()-clear_image.cpu().detach().numpy())**2)\n",
        "    if mse==0:\n",
        "      psnr=100\n",
        "    else:\n",
        "      psnr=20*math.log10(255/math.sqrt(mse))\n",
        "    avg_psnr+=psnr\n",
        "    if i%5==0:\n",
        "      print('Completed: %d\\tpsnr(dB): %.4f'%(i,psnr))\n",
        "  print(\"Avg. PSNR(dB): %.4f\"%(avg_psnr/len(test_loader)))"
      ],
      "execution_count": 15,
      "outputs": []
    },
    {
      "cell_type": "code",
      "metadata": {
        "colab": {
          "base_uri": "https://localhost:8080/"
        },
        "id": "wK_Ov7qy7rYF",
        "outputId": "f4580037-f237-4c6c-9460-ebd1031c5c9e"
      },
      "source": [
        "use_cuda=True\n",
        "device = torch.device(\"cuda\" if (use_cuda and torch.cuda.is_available()) else \"cpu\")\n",
        "modelG = netG().to(device)\n",
        "modelD = netD().to(device)\n",
        "modelD_on_G = netD_on_G(modelG,modelD).to(device)\n",
        "\n",
        "modelG.load_state_dict(torch.load('./models/40 epochs/modelG.pt'))\n",
        "modelD.load_state_dict(torch.load('./models/40 epochs/modelD.pt'))\n",
        "modelD_on_G.load_state_dict(torch.load('./models/40 epochs/modelD_on_G.pt'))\n",
        "\n",
        "modelG.eval()\n",
        "modelD.eval()\n",
        "modelD_on_G.eval()"
      ],
      "execution_count": 16,
      "outputs": [
        {
          "output_type": "execute_result",
          "data": {
            "text/plain": [
              "netD_on_G(\n",
              "  (modelG): netG()\n",
              "  (modelD): netD(\n",
              "    (conv1): Conv2d(3, 64, kernel_size=(3, 3), stride=(2, 2))\n",
              "    (conv2): Conv2d(64, 128, kernel_size=(3, 3), stride=(2, 2))\n",
              "    (conv3): Conv2d(128, 192, kernel_size=(3, 3), stride=(2, 2))\n",
              "    (conv4): Conv2d(192, 256, kernel_size=(3, 3), stride=(2, 2))\n",
              "    (bn1): BatchNorm2d(64, eps=1e-05, momentum=0.1, affine=True, track_running_stats=True)\n",
              "    (bn2): BatchNorm2d(128, eps=1e-05, momentum=0.1, affine=True, track_running_stats=True)\n",
              "    (bn3): BatchNorm2d(192, eps=1e-05, momentum=0.1, affine=True, track_running_stats=True)\n",
              "    (bn4): BatchNorm2d(256, eps=1e-05, momentum=0.1, affine=True, track_running_stats=True)\n",
              "    (dense1): Linear(in_features=2304, out_features=1, bias=True)\n",
              "  )\n",
              ")"
            ]
          },
          "metadata": {
            "tags": []
          },
          "execution_count": 16
        }
      ]
    },
    {
      "cell_type": "code",
      "metadata": {
        "colab": {
          "base_uri": "https://localhost:8080/"
        },
        "id": "nCjvPCGz9XGr",
        "outputId": "4536105d-f6ac-4ef4-b1a7-5a8cd7d3774e"
      },
      "source": [
        "test(modelG,test_loader)"
      ],
      "execution_count": 17,
      "outputs": [
        {
          "output_type": "stream",
          "text": [
            "Completed: 0\tpsnr(dB): 68.9100\n",
            "Completed: 5\tpsnr(dB): 60.7635\n",
            "Completed: 10\tpsnr(dB): 63.4994\n",
            "Completed: 15\tpsnr(dB): 66.1220\n",
            "Completed: 20\tpsnr(dB): 67.9491\n",
            "Completed: 25\tpsnr(dB): 66.9991\n",
            "Completed: 30\tpsnr(dB): 66.2768\n",
            "Completed: 35\tpsnr(dB): 63.9271\n",
            "Completed: 40\tpsnr(dB): 65.2654\n",
            "Completed: 45\tpsnr(dB): 63.7343\n",
            "Completed: 50\tpsnr(dB): 63.6134\n",
            "Completed: 55\tpsnr(dB): 67.3261\n",
            "Completed: 60\tpsnr(dB): 66.4330\n",
            "Completed: 65\tpsnr(dB): 67.0633\n",
            "Completed: 70\tpsnr(dB): 64.2006\n",
            "Completed: 75\tpsnr(dB): 67.5074\n",
            "Completed: 80\tpsnr(dB): 64.3567\n",
            "Completed: 85\tpsnr(dB): 64.6001\n",
            "Completed: 90\tpsnr(dB): 72.1574\n",
            "Completed: 95\tpsnr(dB): 64.4306\n",
            "Completed: 100\tpsnr(dB): 68.8872\n",
            "Completed: 105\tpsnr(dB): 65.3630\n",
            "Completed: 110\tpsnr(dB): 64.4332\n",
            "Avg. PSNR(dB): 66.4959\n"
          ],
          "name": "stdout"
        }
      ]
    },
    {
      "cell_type": "code",
      "metadata": {
        "id": "6LeB581u7cZO"
      },
      "source": [
        ""
      ],
      "execution_count": null,
      "outputs": []
    }
  ]
}